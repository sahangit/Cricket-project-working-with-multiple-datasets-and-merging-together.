{
 "cells": [
  {
   "cell_type": "markdown",
   "metadata": {},
   "source": [
    "## Cricket project mergind data part 2"
   ]
  },
  {
   "cell_type": "markdown",
   "metadata": {},
   "source": [
    "### I Batsman Stat"
   ]
  },
  {
   "cell_type": "markdown",
   "metadata": {},
   "source": [
    "###  1. Checking and cleaning uncessasary columns"
   ]
  },
  {
   "cell_type": "markdown",
   "metadata": {},
   "source": [
    "#### Checking which columns should be deleted"
   ]
  },
  {
   "cell_type": "code",
   "execution_count": 1,
   "metadata": {},
   "outputs": [],
   "source": [
    "# importing necessary \n",
    "\n",
    "import os\n",
    "import glob\n",
    "import pandas as pd\n",
    "import numpy as np"
   ]
  },
  {
   "cell_type": "code",
   "execution_count": 2,
   "metadata": {},
   "outputs": [],
   "source": [
    "# get data file names and shape\n",
    "\n",
    "path ='/home/mendis/Documents/CricProject/complete data./Bat'\n",
    "filenames = glob.glob(path + \"/*.csv\")\n",
    "\n",
    "# created a dictionary storing name and data of dataframs\n",
    "\n",
    "df_dict = dict()\n",
    "    \n",
    "for files in filenames:\n",
    "    file_name = files.replace(path,'').replace('/','').replace('.csv','')\n",
    "    df = pd.read_csv(files)\n",
    "    \n",
    "    df_dict[file_name] = df"
   ]
  },
  {
   "cell_type": "code",
   "execution_count": 3,
   "metadata": {},
   "outputs": [
    {
     "name": "stdout",
     "output_type": "stream",
     "text": [
      "batstatrightopendaynight: (1266, 13)\n",
      "batstatrightthreedaynight: (805, 13)\n",
      "batstatrighttailday: (3539, 13)\n",
      "batstatlefttailday: (1053, 13)\n",
      "batstatleftopendaynight: (962, 13)\n",
      "batstatleftmidday: (1324, 13)\n",
      "batstatleftthreedaynight: (309, 15)\n",
      "batstatleftthreeday: (324, 13)\n",
      "batstatrighttaildaynight: (3254, 13)\n",
      "batstatrightmidday: (3268, 13)\n",
      "batstatrightthreeday: (824, 13)\n",
      "batstatrightopenday: (1462, 13)\n",
      "batstatleftmiddaynight: (1387, 13)\n",
      "batstatrightmiddaynight: (3069, 13)\n",
      "batstatlefttaildaynight: (1202, 13)\n",
      "batstatleftopenday: (834, 13)\n"
     ]
    }
   ],
   "source": [
    "# Check if dataframes are working properly inside a dicitonary\n",
    "\n",
    "for i in df_dict:\n",
    "    print(i+\": \"+str(df_dict[i].shape))"
   ]
  },
  {
   "cell_type": "markdown",
   "metadata": {},
   "source": [
    "#### Duplicate columns?"
   ]
  },
  {
   "cell_type": "code",
   "execution_count": 4,
   "metadata": {},
   "outputs": [
    {
     "name": "stdout",
     "output_type": "stream",
     "text": [
      "17\n"
     ]
    },
    {
     "data": {
      "text/plain": [
       "['Balls Faced',\n",
       " 'Date',\n",
       " 'Fours',\n",
       " 'Ground',\n",
       " 'Inning',\n",
       " 'Inns',\n",
       " 'Mins',\n",
       " 'Opposition',\n",
       " 'Pagination',\n",
       " 'Pagination-href',\n",
       " 'Player',\n",
       " 'Runs',\n",
       " 'Sixes',\n",
       " 'Start Date',\n",
       " 'Strick Rate',\n",
       " 'web-scraper-order',\n",
       " 'web-scraper-start-url']"
      ]
     },
     "execution_count": 4,
     "metadata": {},
     "output_type": "execute_result"
    }
   ],
   "source": [
    "# we can clearly see batstatleftthreeday.csv has two extra cloumn. \n",
    "# That is due to the method of data scraping was different for this data set\n",
    "# let's explore this fact\n",
    "\n",
    "unique_columns = 0\n",
    "df_column_array = []\n",
    "\n",
    "for i in df_dict:\n",
    "    df_column_array = np.append(df_column_array, df_dict[i].columns)\n",
    "\n",
    "unique_columns = np.unique(df_column_array)\n",
    "print(len(unique_columns))\n",
    "unique_columns.tolist()"
   ]
  },
  {
   "cell_type": "code",
   "execution_count": 5,
   "metadata": {},
   "outputs": [
    {
     "name": "stdout",
     "output_type": "stream",
     "text": [
      "15\n",
      "['Balls Faced', 'Date', 'Fours', 'Ground', 'Inning', 'Inns', 'Mins', 'Opposition', 'Player', 'Runs', 'Sixes', 'Start Date', 'Strick Rate', 'web-scraper-order', 'web-scraper-start-url']\n"
     ]
    }
   ],
   "source": [
    "# it is clear that Innings and Inns are similar so need to be modified \n",
    "# And Start Date and Date should also mean the same \n",
    "# As batstatleftthreedaynight.csv was scraped differntly it could be dataset producing these different results\n",
    "# let us check\n",
    "\n",
    "unique_columns = 0\n",
    "df_column_array = []\n",
    "\n",
    "for i in df_dict:\n",
    "    if(i == 'batstatleftthreedaynight'):\n",
    "        pass\n",
    "    else:\n",
    "        df_column_array = np.append(df_column_array, df_dict[i].columns)\n",
    "            \n",
    "unique_columns = np.unique(df_column_array)\n",
    "print(len(unique_columns))\n",
    "print(unique_columns.tolist())"
   ]
  },
  {
   "cell_type": "code",
   "execution_count": 6,
   "metadata": {},
   "outputs": [
    {
     "name": "stdout",
     "output_type": "stream",
     "text": [
      "batstatrightopendaynight\n",
      "15\n",
      "batstatrightthreedaynight\n",
      "15\n",
      "batstatrighttailday\n",
      "15\n",
      "batstatlefttailday\n",
      "15\n",
      "batstatleftopendaynight\n",
      "15\n",
      "batstatleftmidday\n",
      "15\n",
      "batstatleftthreedaynight\n",
      "15\n",
      "batstatleftthreeday\n",
      "15\n",
      "batstatrighttaildaynight\n",
      "15\n",
      "batstatrightmidday\n",
      "15\n",
      "batstatrightthreeday\n",
      "15\n",
      "batstatrightopenday\n",
      "13\n",
      "batstatleftmiddaynight\n",
      "15\n",
      "batstatrightmiddaynight\n",
      "15\n",
      "batstatlefttaildaynight\n",
      "15\n",
      "batstatleftopenday\n",
      "15\n"
     ]
    }
   ],
   "source": [
    "# So it is clear that batstatleftthreedaynight has two distict values than the rest\n",
    "# But looking at columns, we can see Innings and Inns as well as Date and Start Date repeats\n",
    "# let's find whic dataframe creates this issue\n",
    "\n",
    "unique_columns = 0\n",
    "\n",
    "for j in df_dict:\n",
    "    df_column_array = []\n",
    "    print(j)\n",
    "    for i in df_dict:\n",
    "        if i == j or i == 'batstatleftthreedaynight':\n",
    "            pass\n",
    "        else:\n",
    "            df_column_array = np.append(df_column_array, df_dict[i].columns)\n",
    "    unique_columns = np.unique(df_column_array)\n",
    "    print(len(unique_columns))\n",
    "\n",
    "\n",
    "            \n",
    "# unique_columns = np.unique(df_column_array)\n",
    "# print(len(unique_columns))\n",
    "# print(unique_columns.tolist())"
   ]
  },
  {
   "cell_type": "code",
   "execution_count": 7,
   "metadata": {},
   "outputs": [
    {
     "name": "stdout",
     "output_type": "stream",
     "text": [
      "13\n",
      "difference bitween batstatrightopenday and common is ['Inns', 'Start Date']\n",
      "difference betweeen batstatleftthreedaynight and common is ['Inns', 'Pagination', 'Pagination-href', 'Start Date']\n",
      "['Balls Faced', 'Date', 'Fours', 'Ground', 'Inning', 'Mins', 'Opposition', 'Player', 'Runs', 'Sixes', 'Strick Rate', 'web-scraper-order', 'web-scraper-start-url']\n"
     ]
    }
   ],
   "source": [
    "# It seems like batstatrightopenday has unique values, let us investigate\n",
    "# See what columns are different from other datasets\n",
    "\n",
    "\n",
    "unique_columns = 0\n",
    "\n",
    "df_column_array = []\n",
    "\n",
    "for i in df_dict:\n",
    "    if i == 'batstatrightopenday' or i == 'batstatleftthreedaynight':\n",
    "        pass\n",
    "    else:\n",
    "        df_column_array = np.append(df_column_array, df_dict[i].columns)\n",
    "            \n",
    "unique_columns = np.unique(df_column_array)\n",
    "print(len(unique_columns))\n",
    "\n",
    "\n",
    "# See what columns are different from other datasets\n",
    "\n",
    "list_column_common = unique_columns.tolist()\n",
    "batstatrightopenday_column = df_dict['batstatrightopenday'].columns.tolist()\n",
    "batstatleftthreedaynight_colunm = df_dict['batstatleftthreedaynight'].columns.tolist()\n",
    "\n",
    "listdiff1 = list(set(batstatrightopenday_column) - set(list_column_common))\n",
    "listdiff2 = list(set(batstatleftthreedaynight_colunm) - set(list_column_common))\n",
    "\n",
    "print('difference bitween batstatrightopenday and common is {}\\ndifference betweeen batstatleftthreedaynight and common is {}'.format(listdiff1,listdiff2))\n",
    "print(list_column_common)\n"
   ]
  },
  {
   "cell_type": "code",
   "execution_count": 8,
   "metadata": {},
   "outputs": [
    {
     "name": "stdout",
     "output_type": "stream",
     "text": [
      "[]\n"
     ]
    }
   ],
   "source": [
    "# let's check if other datasets have common colunms as we assumed\n",
    "\n",
    "diff_list = []\n",
    "\n",
    "for i in df_dict:\n",
    "    for j in df_dict:\n",
    "        if i == 'batstatrightopenday' or i == 'batstatleftthreedaynight'or j == 'batstatrightopenday' or j == 'batstatleftthreedaynight' :\n",
    "            pass\n",
    "        else:\n",
    "            diff_list = np.append(diff_list,list(set(df_dict[i].columns.tolist())-set(df_dict[j].columns.tolist())))\n",
    "\n",
    "print(diff_list)      "
   ]
  },
  {
   "cell_type": "code",
   "execution_count": 9,
   "metadata": {},
   "outputs": [
    {
     "name": "stdout",
     "output_type": "stream",
     "text": [
      "[]\n"
     ]
    }
   ],
   "source": [
    "# by printing dataframes in jupyter I found that Innings and Inns meant the same\n",
    "# And Date and Start Date means the same\n",
    "# We'll rename these columns with the common name and check\n",
    "# drop Pagination and href\n",
    "\n",
    "df_dict['batstatrightopenday'].rename(columns = {'Inns':'Inning','Start Date':'Date'}, inplace = True)\n",
    "df_dict['batstatleftthreedaynight'].rename(columns = {'Inns':'Inning','Start Date':'Date'}, inplace = True)\n",
    "\n",
    "df_dict['batstatleftthreedaynight'] = df_dict['batstatleftthreedaynight'].drop([\"Pagination\",\"Pagination-href\"], axis=1)\n",
    "\n",
    "diff_list = []\n",
    "\n",
    "for i in df_dict:\n",
    "    for j in df_dict:\n",
    "        diff_list = np.append(diff_list,list(set(df_dict[i].columns.tolist())-set(df_dict[j].columns.tolist())))\n",
    "\n",
    "print(diff_list) "
   ]
  },
  {
   "cell_type": "code",
   "execution_count": 10,
   "metadata": {},
   "outputs": [
    {
     "name": "stdout",
     "output_type": "stream",
     "text": [
      "11\n",
      "['Balls Faced', 'Date', 'Fours', 'Ground', 'Inning', 'Mins', 'Opposition', 'Player', 'Runs', 'Sixes', 'Strick Rate']\n"
     ]
    }
   ],
   "source": [
    "# let us remove 'web-scraper-order', 'web-scraper-start-url' from every dataset\n",
    "array_check_drop = []\n",
    "\n",
    "for i in df_dict:\n",
    "    df_dict[i] = df_dict[i].drop(['web-scraper-order', 'web-scraper-start-url' ],axis = 1)\n",
    "    array_check_drop = np.append(array_check_drop, df_dict[i].columns)\n",
    "    \n",
    "unique_columns_drop = np.unique(array_check_drop)\n",
    "print(len(unique_columns_drop))\n",
    "print(unique_columns_drop.tolist())\n"
   ]
  },
  {
   "cell_type": "code",
   "execution_count": 11,
   "metadata": {},
   "outputs": [
    {
     "name": "stdout",
     "output_type": "stream",
     "text": [
      "batstatrightopendaynight: (1266, 11)\n",
      "batstatrightthreedaynight: (805, 11)\n",
      "batstatrighttailday: (3539, 11)\n",
      "batstatlefttailday: (1053, 11)\n",
      "batstatleftopendaynight: (962, 11)\n",
      "batstatleftmidday: (1324, 11)\n",
      "batstatleftthreedaynight: (309, 11)\n",
      "batstatleftthreeday: (324, 11)\n",
      "batstatrighttaildaynight: (3254, 11)\n",
      "batstatrightmidday: (3268, 11)\n",
      "batstatrightthreeday: (824, 11)\n",
      "batstatrightopenday: (1462, 11)\n",
      "batstatleftmiddaynight: (1387, 11)\n",
      "batstatrightmiddaynight: (3069, 11)\n",
      "batstatlefttaildaynight: (1202, 11)\n",
      "batstatleftopenday: (834, 11)\n"
     ]
    }
   ],
   "source": [
    "#let's chech the shape of our dataframes to be sure of nothing changed during the process\n",
    "\n",
    "for i in df_dict:\n",
    "    print(i+\": \"+str(df_dict[i].shape))"
   ]
  },
  {
   "cell_type": "markdown",
   "metadata": {},
   "source": [
    "###  2. Labeling"
   ]
  },
  {
   "cell_type": "code",
   "execution_count": 152,
   "metadata": {},
   "outputs": [],
   "source": [
    "# labels should be added, 'Batting Hand', 'Position', 'Day/DayNight'\n",
    "# keys in dictionary are all strings so I can label the by\n",
    "\n",
    "for i in df_dict:\n",
    "    if 'right' in i:\n",
    "        df_dict[i]['Batting Hand'] = 'Right'\n",
    "    elif 'left' in i:\n",
    "        df_dict[i]['Batting Hand'] = 'Left'\n",
    "        \n",
    "for i in df_dict:\n",
    "    if 'open' in i:\n",
    "        df_dict[i]['Batting Position'] = 'Opener'\n",
    "    elif 'three' in i:\n",
    "        df_dict[i]['Batting Position'] = 'Third Batsman'\n",
    "    elif 'mid' in i:\n",
    "        df_dict[i]['Batting Position'] = 'Middle Order'\n",
    "    elif 'tail' in i:\n",
    "        df_dict[i]['Batting Position'] = 'Tail Ender'\n",
    "        \n",
    "for i in df_dict:\n",
    "    if 'night' in i:\n",
    "        df_dict[i]['Match Time'] = 'Day Night'\n",
    "    else:\n",
    "        df_dict[i]['Match Time'] = 'Day'\n"
   ]
  },
  {
   "cell_type": "code",
   "execution_count": null,
   "metadata": {},
   "outputs": [],
   "source": []
  },
  {
   "cell_type": "code",
   "execution_count": 153,
   "metadata": {},
   "outputs": [
    {
     "name": "stdout",
     "output_type": "stream",
     "text": [
      "batstatrightopendaynight: (1266, 14)\n",
      "batstatrightthreedaynight: (805, 14)\n",
      "batstatrighttailday: (3539, 14)\n",
      "batstatlefttailday: (1053, 14)\n",
      "batstatleftopendaynight: (962, 14)\n",
      "batstatleftmidday: (1324, 14)\n",
      "batstatleftthreedaynight: (309, 14)\n",
      "batstatleftthreeday: (324, 14)\n",
      "batstatrighttaildaynight: (3254, 14)\n",
      "batstatrightmidday: (3268, 14)\n",
      "batstatrightthreeday: (824, 14)\n",
      "batstatrightopenday: (1462, 14)\n",
      "batstatleftmiddaynight: (1387, 14)\n",
      "batstatrightmiddaynight: (3069, 14)\n",
      "batstatlefttaildaynight: (1202, 14)\n",
      "batstatleftopenday: (834, 14)\n",
      "14\n",
      "['Balls Faced', 'Batting Hand', 'Batting Position', 'Date', 'Fours', 'Ground', 'Inning', 'Match Time', 'Mins', 'Opposition', 'Player', 'Runs', 'Sixes', 'Strick Rate']\n"
     ]
    }
   ],
   "source": [
    "# checking shape \n",
    "# checking unique columns\n",
    "\n",
    "for i in df_dict:\n",
    "    print(i+\": \"+str(df_dict[i].shape))\n",
    "\n",
    "column_unique_array = []\n",
    "\n",
    "for i in df_dict:\n",
    "    column_unique_array = np.append(column_unique_array, df_dict[i].columns)\n",
    "            \n",
    "unique_columns = np.unique(column_unique_array)\n",
    "print(len(unique_columns))\n",
    "print(unique_columns.tolist())"
   ]
  },
  {
   "cell_type": "markdown",
   "metadata": {},
   "source": [
    "### 3. Merging"
   ]
  },
  {
   "cell_type": "code",
   "execution_count": 154,
   "metadata": {},
   "outputs": [
    {
     "name": "stdout",
     "output_type": "stream",
     "text": [
      "24882\n",
      "number of matches 2262.0\n"
     ]
    }
   ],
   "source": [
    "# Check how many rows should be there after merging\n",
    "\n",
    "count = 0\n",
    "\n",
    "for i in df_dict:\n",
    "    count = count + df_dict[i].shape[0]\n",
    "    \n",
    "print(count)\n",
    "print(\"number of matches {}\".format(count/11))"
   ]
  },
  {
   "cell_type": "code",
   "execution_count": 155,
   "metadata": {},
   "outputs": [
    {
     "data": {
      "text/plain": [
       "(24882, 14)"
      ]
     },
     "execution_count": 155,
     "metadata": {},
     "output_type": "execute_result"
    }
   ],
   "source": [
    "# number of rows should be 24882 after merging\n",
    "\n",
    "batstatfinal = pd.DataFrame()\n",
    "\n",
    "for i in df_dict:\n",
    "    batstatfinal =batstatfinal.append(df_dict[i])\n",
    "\n",
    "batstatfinal.shape"
   ]
  },
  {
   "cell_type": "markdown",
   "metadata": {},
   "source": [
    "### 4. Data Cleaning"
   ]
  },
  {
   "cell_type": "markdown",
   "metadata": {},
   "source": [
    "Check the type of data in dataframe and perform neccesary data conversions\n",
    "Add A few columns\n"
   ]
  },
  {
   "cell_type": "markdown",
   "metadata": {},
   "source": [
    "1. Columns to be added, 'Playing Country', 'Not Out'"
   ]
  },
  {
   "cell_type": "markdown",
   "metadata": {},
   "source": [
    "2. Column 'Inning' to be renamed to 'Bat Inning'"
   ]
  },
  {
   "cell_type": "code",
   "execution_count": 156,
   "metadata": {},
   "outputs": [],
   "source": [
    "# renaming inning\n",
    "# type of data\n",
    "\n",
    "batstatfinal.rename(columns = {'Inning':'Bat Inning'} , inplace = True)"
   ]
  },
  {
   "cell_type": "code",
   "execution_count": 157,
   "metadata": {},
   "outputs": [
    {
     "name": "stdout",
     "output_type": "stream",
     "text": [
      "<class 'pandas.core.frame.DataFrame'>\n",
      "Int64Index: 24882 entries, 0 to 833\n",
      "Data columns (total 14 columns):\n",
      " #   Column            Non-Null Count  Dtype \n",
      "---  ------            --------------  ----- \n",
      " 0   Player            24882 non-null  object\n",
      " 1   Runs              24882 non-null  object\n",
      " 2   Mins              24882 non-null  object\n",
      " 3   Balls Faced       24882 non-null  object\n",
      " 4   Fours             24882 non-null  object\n",
      " 5   Sixes             24882 non-null  object\n",
      " 6   Strick Rate       24882 non-null  object\n",
      " 7   Bat Inning        24882 non-null  object\n",
      " 8   Opposition        24882 non-null  object\n",
      " 9   Ground            24882 non-null  object\n",
      " 10  Date              24882 non-null  object\n",
      " 11  Batting Hand      24882 non-null  object\n",
      " 12  Batting Position  24882 non-null  object\n",
      " 13  Match Time        24882 non-null  object\n",
      "dtypes: object(14)\n",
      "memory usage: 2.8+ MB\n"
     ]
    }
   ],
   "source": [
    "batstatfinal.info()"
   ]
  },
  {
   "cell_type": "code",
   "execution_count": 158,
   "metadata": {},
   "outputs": [],
   "source": [
    "# Runs, mins, balls faced, fours, sixes should be chaneged to int\n",
    "# Strick rate should be a float|\n",
    "# Type of date should be changed|"
   ]
  },
  {
   "cell_type": "markdown",
   "metadata": {},
   "source": [
    "#### Cleaning 'Runs'"
   ]
  },
  {
   "cell_type": "code",
   "execution_count": 159,
   "metadata": {},
   "outputs": [],
   "source": [
    "# Remove TDNB\n",
    "# Add columns Batted and Not Out\n",
    "# Replace DNB with 0\n",
    "# Removing *\n",
    "\n",
    "batstatfinal = batstatfinal[batstatfinal['Runs'] != 'TDNB']\n",
    "\n",
    "batstatfinal['Not Out'] = batstatfinal['Runs'].str.contains('\\*') \n",
    "batstatfinal['Batted'] = ~batstatfinal['Runs'].str.contains('DNB|absent')\n",
    "batstatfinal['Runs'] = batstatfinal['Runs'].replace(['DNB'],'0')\n",
    "batstatfinal['Runs'] = batstatfinal['Runs'].replace(['absent'],'0')\n",
    "batstatfinal['Runs'] = batstatfinal['Runs'].str.split('*').str[0]\n"
   ]
  },
  {
   "cell_type": "markdown",
   "metadata": {},
   "source": [
    "#### Clean  Others"
   ]
  },
  {
   "cell_type": "code",
   "execution_count": 160,
   "metadata": {},
   "outputs": [],
   "source": [
    "batstatfinal = batstatfinal.replace(['-'],'0')"
   ]
  },
  {
   "cell_type": "code",
   "execution_count": 161,
   "metadata": {},
   "outputs": [
    {
     "data": {
      "text/plain": [
       "array(['22', '107', '25', '51', '32', '0', '28', '34', '23', '42', '153',\n",
       "       '59', '12', '168', '50', '69', '84', '29', '228', '15', '136',\n",
       "       '166', '58', '56', '8', '91', '18', '141', '36', '21', '112',\n",
       "       '204', '7', '3', '71', '137', '225', '53', '83', '20', '93', '212',\n",
       "       '67', '81', '88', '46', '40', '122', '2', '102', '63', '90', '62',\n",
       "       '27', '19', '76', '45', '16', '1', '94', '154', '180', '126', '14',\n",
       "       '151', '24', '187', '49', '17', '117', '13', '156', '4', '5', '48',\n",
       "       '54', '11', '57', '77', '160', '61', '169', '113', '82', '123',\n",
       "       '109', '66', '98', '144', '43', '52', '164', '60', '132', '108',\n",
       "       '127', '222', '6', '38', '118', '158', '65', '200', '86', '87',\n",
       "       '39', '189', '10', '30', '47', '74', '177', '97', '95', '159',\n",
       "       '99', '33', '105', '217', '78', '75', '162', '103', '79', '171',\n",
       "       '35', '210', '64', '138', '215', '209', '192', '80', '205', '152',\n",
       "       '145', '104', '44', '130', '110', '31', '174', '70', '85', '119',\n",
       "       '55', '41', '100', '131', '72', '135', '124', '223', '9', '111',\n",
       "       '26', '133', '150', '175', '37', '193', '149', '167', '68', '148',\n",
       "       '116', '221', '146', '206', '142', '161', '202', '140', '128',\n",
       "       '115', '170', '208', '198', '147', '114', '120', '163', '134',\n",
       "       '195', '89', '125', '172', '92', '190', '165', '179', '73', '101',\n",
       "       '197', '173', '155', '96', '203', '121', '186', '183', '184',\n",
       "       '220', '201', '157', '199', '129', '207', '139', '106', '211',\n",
       "       '181', '218', '182', '216', '214', '194', '219', '178', '143',\n",
       "       '191', '176', '196', '185', '213', '188', '236', '230', '224'],\n",
       "      dtype=object)"
      ]
     },
     "execution_count": 161,
     "metadata": {},
     "output_type": "execute_result"
    }
   ],
   "source": [
    "batstatfinal['Mins'].unique()"
   ]
  },
  {
   "cell_type": "code",
   "execution_count": 162,
   "metadata": {},
   "outputs": [],
   "source": [
    "# first trial ValueError: invalid literal ... '153* the star represent not out. remove star add a colum not out\n",
    "\n",
    "batstatfinal['Runs'] = batstatfinal['Runs'].astype('int')\n",
    "batstatfinal['Mins'] = batstatfinal['Mins'].astype('int')\n",
    "batstatfinal['Balls Faced'] = batstatfinal['Balls Faced'].astype('int')\n",
    "batstatfinal['Fours'] = batstatfinal['Fours'].astype('int')\n",
    "batstatfinal['Sixes'] = batstatfinal['Sixes'].astype('int')\n",
    "\n",
    "\n",
    "batstatfinal['Strick Rate'] = batstatfinal['Strick Rate'].astype('float')"
   ]
  },
  {
   "cell_type": "code",
   "execution_count": 163,
   "metadata": {},
   "outputs": [
    {
     "name": "stdout",
     "output_type": "stream",
     "text": [
      "<class 'pandas.core.frame.DataFrame'>\n",
      "Int64Index: 24530 entries, 0 to 833\n",
      "Data columns (total 16 columns):\n",
      " #   Column            Non-Null Count  Dtype  \n",
      "---  ------            --------------  -----  \n",
      " 0   Player            24530 non-null  object \n",
      " 1   Runs              24530 non-null  int64  \n",
      " 2   Mins              24530 non-null  int64  \n",
      " 3   Balls Faced       24530 non-null  int64  \n",
      " 4   Fours             24530 non-null  int64  \n",
      " 5   Sixes             24530 non-null  int64  \n",
      " 6   Strick Rate       24530 non-null  float64\n",
      " 7   Bat Inning        24530 non-null  object \n",
      " 8   Opposition        24530 non-null  object \n",
      " 9   Ground            24530 non-null  object \n",
      " 10  Date              24530 non-null  object \n",
      " 11  Batting Hand      24530 non-null  object \n",
      " 12  Batting Position  24530 non-null  object \n",
      " 13  Match Time        24530 non-null  object \n",
      " 14  Not Out           24530 non-null  bool   \n",
      " 15  Batted            24530 non-null  bool   \n",
      "dtypes: bool(2), float64(1), int64(5), object(8)\n",
      "memory usage: 2.9+ MB\n"
     ]
    }
   ],
   "source": [
    "batstatfinal.info()"
   ]
  },
  {
   "cell_type": "code",
   "execution_count": 164,
   "metadata": {},
   "outputs": [],
   "source": [
    "# remove v from Opposition\n",
    "# changing the date format\n",
    "# New Column Player Country\n",
    "\n",
    "batstatfinal['Opposition'] = batstatfinal['Opposition'].str.strip(' ').str[1:]\n",
    "batstatfinal['Date'] = pd.to_datetime(batstatfinal['Date'])\n",
    "\n",
    "batstatfinal['Player Country'] = batstatfinal['Player'].apply(lambda st: st[st.find(\"(\")+1:st.find(\")\")])\n",
    "batstatfinal['Player'] = batstatfinal['Player'].apply(lambda st: st[:st.find(\"(\")])"
   ]
  },
  {
   "cell_type": "code",
   "execution_count": 165,
   "metadata": {},
   "outputs": [
    {
     "data": {
      "text/html": [
       "<div>\n",
       "<style scoped>\n",
       "    .dataframe tbody tr th:only-of-type {\n",
       "        vertical-align: middle;\n",
       "    }\n",
       "\n",
       "    .dataframe tbody tr th {\n",
       "        vertical-align: top;\n",
       "    }\n",
       "\n",
       "    .dataframe thead th {\n",
       "        text-align: right;\n",
       "    }\n",
       "</style>\n",
       "<table border=\"1\" class=\"dataframe\">\n",
       "  <thead>\n",
       "    <tr style=\"text-align: right;\">\n",
       "      <th></th>\n",
       "      <th>Player</th>\n",
       "      <th>Runs</th>\n",
       "      <th>Mins</th>\n",
       "      <th>Balls Faced</th>\n",
       "      <th>Fours</th>\n",
       "      <th>Sixes</th>\n",
       "      <th>Strick Rate</th>\n",
       "      <th>Bat Inning</th>\n",
       "      <th>Opposition</th>\n",
       "      <th>Ground</th>\n",
       "      <th>Date</th>\n",
       "      <th>Batting Hand</th>\n",
       "      <th>Batting Position</th>\n",
       "      <th>Match Time</th>\n",
       "      <th>Not Out</th>\n",
       "      <th>Batted</th>\n",
       "      <th>Player Country</th>\n",
       "    </tr>\n",
       "  </thead>\n",
       "  <tbody>\n",
       "    <tr>\n",
       "      <th>0</th>\n",
       "      <td>MJ Guptill</td>\n",
       "      <td>20</td>\n",
       "      <td>22</td>\n",
       "      <td>24</td>\n",
       "      <td>3</td>\n",
       "      <td>1</td>\n",
       "      <td>83.33</td>\n",
       "      <td>2</td>\n",
       "      <td>Bangladesh</td>\n",
       "      <td>Christchurch</td>\n",
       "      <td>2021-03-23</td>\n",
       "      <td>Right</td>\n",
       "      <td>Opener</td>\n",
       "      <td>Day Night</td>\n",
       "      <td>False</td>\n",
       "      <td>True</td>\n",
       "      <td>NZ</td>\n",
       "    </tr>\n",
       "    <tr>\n",
       "      <th>1</th>\n",
       "      <td>Ahmed Shehzad</td>\n",
       "      <td>61</td>\n",
       "      <td>107</td>\n",
       "      <td>82</td>\n",
       "      <td>5</td>\n",
       "      <td>0</td>\n",
       "      <td>74.39</td>\n",
       "      <td>1</td>\n",
       "      <td>Australia</td>\n",
       "      <td>Dubai (DSC)</td>\n",
       "      <td>2014-10-10</td>\n",
       "      <td>Right</td>\n",
       "      <td>Opener</td>\n",
       "      <td>Day Night</td>\n",
       "      <td>False</td>\n",
       "      <td>True</td>\n",
       "      <td>PAK</td>\n",
       "    </tr>\n",
       "    <tr>\n",
       "      <th>2</th>\n",
       "      <td>Nawroz Mangal</td>\n",
       "      <td>4</td>\n",
       "      <td>25</td>\n",
       "      <td>28</td>\n",
       "      <td>0</td>\n",
       "      <td>0</td>\n",
       "      <td>14.28</td>\n",
       "      <td>1</td>\n",
       "      <td>England</td>\n",
       "      <td>Sydney</td>\n",
       "      <td>2015-03-13</td>\n",
       "      <td>Right</td>\n",
       "      <td>Opener</td>\n",
       "      <td>Day Night</td>\n",
       "      <td>False</td>\n",
       "      <td>True</td>\n",
       "      <td>AFG</td>\n",
       "    </tr>\n",
       "    <tr>\n",
       "      <th>3</th>\n",
       "      <td>Mohammad Ashraful</td>\n",
       "      <td>29</td>\n",
       "      <td>51</td>\n",
       "      <td>38</td>\n",
       "      <td>5</td>\n",
       "      <td>0</td>\n",
       "      <td>76.31</td>\n",
       "      <td>2</td>\n",
       "      <td>Sri Lanka</td>\n",
       "      <td>Pallekele</td>\n",
       "      <td>2013-03-28</td>\n",
       "      <td>Right</td>\n",
       "      <td>Opener</td>\n",
       "      <td>Day Night</td>\n",
       "      <td>False</td>\n",
       "      <td>True</td>\n",
       "      <td>BDESH</td>\n",
       "    </tr>\n",
       "    <tr>\n",
       "      <th>4</th>\n",
       "      <td>JM Vince</td>\n",
       "      <td>16</td>\n",
       "      <td>32</td>\n",
       "      <td>20</td>\n",
       "      <td>1</td>\n",
       "      <td>0</td>\n",
       "      <td>80.00</td>\n",
       "      <td>1</td>\n",
       "      <td>Bangladesh</td>\n",
       "      <td>Dhaka</td>\n",
       "      <td>2016-10-07</td>\n",
       "      <td>Right</td>\n",
       "      <td>Opener</td>\n",
       "      <td>Day Night</td>\n",
       "      <td>False</td>\n",
       "      <td>True</td>\n",
       "      <td>ENG</td>\n",
       "    </tr>\n",
       "  </tbody>\n",
       "</table>\n",
       "</div>"
      ],
      "text/plain": [
       "               Player  Runs  Mins  Balls Faced  Fours  Sixes  Strick Rate  \\\n",
       "0         MJ Guptill     20    22           24      3      1        83.33   \n",
       "1      Ahmed Shehzad     61   107           82      5      0        74.39   \n",
       "2      Nawroz Mangal      4    25           28      0      0        14.28   \n",
       "3  Mohammad Ashraful     29    51           38      5      0        76.31   \n",
       "4           JM Vince     16    32           20      1      0        80.00   \n",
       "\n",
       "  Bat Inning   Opposition        Ground       Date Batting Hand  \\\n",
       "0          2   Bangladesh  Christchurch 2021-03-23        Right   \n",
       "1          1    Australia   Dubai (DSC) 2014-10-10        Right   \n",
       "2          1      England        Sydney 2015-03-13        Right   \n",
       "3          2    Sri Lanka     Pallekele 2013-03-28        Right   \n",
       "4          1   Bangladesh         Dhaka 2016-10-07        Right   \n",
       "\n",
       "  Batting Position Match Time  Not Out  Batted Player Country  \n",
       "0           Opener  Day Night    False    True             NZ  \n",
       "1           Opener  Day Night    False    True            PAK  \n",
       "2           Opener  Day Night    False    True            AFG  \n",
       "3           Opener  Day Night    False    True          BDESH  \n",
       "4           Opener  Day Night    False    True            ENG  "
      ]
     },
     "execution_count": 165,
     "metadata": {},
     "output_type": "execute_result"
    }
   ],
   "source": [
    "batstatfinal.head()"
   ]
  },
  {
   "cell_type": "code",
   "execution_count": 166,
   "metadata": {},
   "outputs": [
    {
     "data": {
      "text/plain": [
       "array(['NZ', 'PAK', 'AFG', 'BDESH', 'ENG', 'SL', 'INDIA', 'AUS', 'ZIM',\n",
       "       'WI', 'SA', 'IRE', 'SCOT', 'UAE', 'PNG', 'USA', 'NL', 'NEPAL',\n",
       "       'KENYA', 'HKG', 'CAN', 'NAM', 'OMAN', '3', '1'], dtype=object)"
      ]
     },
     "execution_count": 166,
     "metadata": {},
     "output_type": "execute_result"
    }
   ],
   "source": [
    "len(batstatfinal['Player Country'].unique())\n",
    "batstatfinal['Player Country'].unique()"
   ]
  },
  {
   "cell_type": "code",
   "execution_count": 167,
   "metadata": {},
   "outputs": [
    {
     "data": {
      "text/plain": [
       "array([' Bangladesh', ' Australia', ' England', ' Sri Lanka', ' India',\n",
       "       ' Pakistan', ' Zimbabwe', ' South Africa', ' Ireland',\n",
       "       ' New Zealand', ' West Indies', ' Afghanistan', ' Scotland',\n",
       "       ' U.A.E.', ' Hong Kong', ' P.N.G.', ' Kenya', ' Canada',\n",
       "       ' Netherlands', ' Namibia', ' Nepal', ' Oman', ' U.S.A.'],\n",
       "      dtype=object)"
      ]
     },
     "execution_count": 167,
     "metadata": {},
     "output_type": "execute_result"
    }
   ],
   "source": [
    "len(batstatfinal['Opposition'].unique())\n",
    "batstatfinal['Opposition'].unique()"
   ]
  },
  {
   "cell_type": "code",
   "execution_count": 168,
   "metadata": {},
   "outputs": [],
   "source": [
    "# Export to CSV\n",
    "# batstatfinal.to_csv('batstatfinal.csv', index = False )"
   ]
  },
  {
   "cell_type": "code",
   "execution_count": 169,
   "metadata": {},
   "outputs": [
    {
     "data": {
      "text/html": [
       "<div>\n",
       "<style scoped>\n",
       "    .dataframe tbody tr th:only-of-type {\n",
       "        vertical-align: middle;\n",
       "    }\n",
       "\n",
       "    .dataframe tbody tr th {\n",
       "        vertical-align: top;\n",
       "    }\n",
       "\n",
       "    .dataframe thead th {\n",
       "        text-align: right;\n",
       "    }\n",
       "</style>\n",
       "<table border=\"1\" class=\"dataframe\">\n",
       "  <thead>\n",
       "    <tr style=\"text-align: right;\">\n",
       "      <th></th>\n",
       "      <th>Player</th>\n",
       "      <th>Runs</th>\n",
       "      <th>Mins</th>\n",
       "      <th>Balls Faced</th>\n",
       "      <th>Fours</th>\n",
       "      <th>Sixes</th>\n",
       "      <th>Strick Rate</th>\n",
       "      <th>Bat Inning</th>\n",
       "      <th>Opposition</th>\n",
       "      <th>Ground</th>\n",
       "      <th>Date</th>\n",
       "      <th>Batting Hand</th>\n",
       "      <th>Batting Position</th>\n",
       "      <th>Match Time</th>\n",
       "      <th>Not Out</th>\n",
       "      <th>Batted</th>\n",
       "      <th>Player Country</th>\n",
       "    </tr>\n",
       "  </thead>\n",
       "  <tbody>\n",
       "    <tr>\n",
       "      <th>0</th>\n",
       "      <td>MJ Guptill</td>\n",
       "      <td>20</td>\n",
       "      <td>22</td>\n",
       "      <td>24</td>\n",
       "      <td>3</td>\n",
       "      <td>1</td>\n",
       "      <td>83.33</td>\n",
       "      <td>2</td>\n",
       "      <td>Bangladesh</td>\n",
       "      <td>Christchurch</td>\n",
       "      <td>2021-03-23</td>\n",
       "      <td>Right</td>\n",
       "      <td>Opener</td>\n",
       "      <td>Day Night</td>\n",
       "      <td>False</td>\n",
       "      <td>True</td>\n",
       "      <td>NZ</td>\n",
       "    </tr>\n",
       "    <tr>\n",
       "      <th>1</th>\n",
       "      <td>Ahmed Shehzad</td>\n",
       "      <td>61</td>\n",
       "      <td>107</td>\n",
       "      <td>82</td>\n",
       "      <td>5</td>\n",
       "      <td>0</td>\n",
       "      <td>74.39</td>\n",
       "      <td>1</td>\n",
       "      <td>Australia</td>\n",
       "      <td>Dubai (DSC)</td>\n",
       "      <td>2014-10-10</td>\n",
       "      <td>Right</td>\n",
       "      <td>Opener</td>\n",
       "      <td>Day Night</td>\n",
       "      <td>False</td>\n",
       "      <td>True</td>\n",
       "      <td>PAK</td>\n",
       "    </tr>\n",
       "    <tr>\n",
       "      <th>2</th>\n",
       "      <td>Nawroz Mangal</td>\n",
       "      <td>4</td>\n",
       "      <td>25</td>\n",
       "      <td>28</td>\n",
       "      <td>0</td>\n",
       "      <td>0</td>\n",
       "      <td>14.28</td>\n",
       "      <td>1</td>\n",
       "      <td>England</td>\n",
       "      <td>Sydney</td>\n",
       "      <td>2015-03-13</td>\n",
       "      <td>Right</td>\n",
       "      <td>Opener</td>\n",
       "      <td>Day Night</td>\n",
       "      <td>False</td>\n",
       "      <td>True</td>\n",
       "      <td>AFG</td>\n",
       "    </tr>\n",
       "    <tr>\n",
       "      <th>3</th>\n",
       "      <td>Mohammad Ashraful</td>\n",
       "      <td>29</td>\n",
       "      <td>51</td>\n",
       "      <td>38</td>\n",
       "      <td>5</td>\n",
       "      <td>0</td>\n",
       "      <td>76.31</td>\n",
       "      <td>2</td>\n",
       "      <td>Sri Lanka</td>\n",
       "      <td>Pallekele</td>\n",
       "      <td>2013-03-28</td>\n",
       "      <td>Right</td>\n",
       "      <td>Opener</td>\n",
       "      <td>Day Night</td>\n",
       "      <td>False</td>\n",
       "      <td>True</td>\n",
       "      <td>BDESH</td>\n",
       "    </tr>\n",
       "    <tr>\n",
       "      <th>4</th>\n",
       "      <td>JM Vince</td>\n",
       "      <td>16</td>\n",
       "      <td>32</td>\n",
       "      <td>20</td>\n",
       "      <td>1</td>\n",
       "      <td>0</td>\n",
       "      <td>80.00</td>\n",
       "      <td>1</td>\n",
       "      <td>Bangladesh</td>\n",
       "      <td>Dhaka</td>\n",
       "      <td>2016-10-07</td>\n",
       "      <td>Right</td>\n",
       "      <td>Opener</td>\n",
       "      <td>Day Night</td>\n",
       "      <td>False</td>\n",
       "      <td>True</td>\n",
       "      <td>ENG</td>\n",
       "    </tr>\n",
       "  </tbody>\n",
       "</table>\n",
       "</div>"
      ],
      "text/plain": [
       "               Player  Runs  Mins  Balls Faced  Fours  Sixes  Strick Rate  \\\n",
       "0         MJ Guptill     20    22           24      3      1        83.33   \n",
       "1      Ahmed Shehzad     61   107           82      5      0        74.39   \n",
       "2      Nawroz Mangal      4    25           28      0      0        14.28   \n",
       "3  Mohammad Ashraful     29    51           38      5      0        76.31   \n",
       "4           JM Vince     16    32           20      1      0        80.00   \n",
       "\n",
       "   Bat Inning   Opposition        Ground        Date Batting Hand  \\\n",
       "0           2   Bangladesh  Christchurch  2021-03-23        Right   \n",
       "1           1    Australia   Dubai (DSC)  2014-10-10        Right   \n",
       "2           1      England        Sydney  2015-03-13        Right   \n",
       "3           2    Sri Lanka     Pallekele  2013-03-28        Right   \n",
       "4           1   Bangladesh         Dhaka  2016-10-07        Right   \n",
       "\n",
       "  Batting Position Match Time  Not Out  Batted Player Country  \n",
       "0           Opener  Day Night    False    True             NZ  \n",
       "1           Opener  Day Night    False    True            PAK  \n",
       "2           Opener  Day Night    False    True            AFG  \n",
       "3           Opener  Day Night    False    True          BDESH  \n",
       "4           Opener  Day Night    False    True            ENG  "
      ]
     },
     "execution_count": 169,
     "metadata": {},
     "output_type": "execute_result"
    }
   ],
   "source": [
    "df=pd.read_csv('batstatfinal.csv')\n",
    "df.head()"
   ]
  },
  {
   "cell_type": "code",
   "execution_count": 170,
   "metadata": {},
   "outputs": [
    {
     "data": {
      "text/plain": [
       "(24530, 17)"
      ]
     },
     "execution_count": 170,
     "metadata": {},
     "output_type": "execute_result"
    }
   ],
   "source": [
    "df.shape"
   ]
  },
  {
   "cell_type": "code",
   "execution_count": 171,
   "metadata": {},
   "outputs": [
    {
     "data": {
      "text/plain": [
       "Index(['Player', 'Runs', 'Mins', 'Balls Faced', 'Fours', 'Sixes',\n",
       "       'Strick Rate', 'Bat Inning', 'Opposition', 'Ground', 'Date',\n",
       "       'Batting Hand', 'Batting Position', 'Match Time', 'Not Out', 'Batted',\n",
       "       'Player Country'],\n",
       "      dtype='object')"
      ]
     },
     "execution_count": 171,
     "metadata": {},
     "output_type": "execute_result"
    }
   ],
   "source": [
    "df.columns"
   ]
  },
  {
   "cell_type": "code",
   "execution_count": null,
   "metadata": {},
   "outputs": [],
   "source": []
  },
  {
   "cell_type": "code",
   "execution_count": null,
   "metadata": {},
   "outputs": [],
   "source": []
  }
 ],
 "metadata": {
  "kernelspec": {
   "display_name": "Python 3",
   "language": "python",
   "name": "python3"
  },
  "language_info": {
   "codemirror_mode": {
    "name": "ipython",
    "version": 3
   },
   "file_extension": ".py",
   "mimetype": "text/x-python",
   "name": "python",
   "nbconvert_exporter": "python",
   "pygments_lexer": "ipython3",
   "version": "3.7.3"
  }
 },
 "nbformat": 4,
 "nbformat_minor": 2
}
